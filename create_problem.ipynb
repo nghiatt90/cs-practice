{
 "cells": [
  {
   "cell_type": "code",
   "execution_count": 1,
   "metadata": {},
   "outputs": [],
   "source": [
    "import collections\n",
    "import heapq\n",
    "import itertools\n",
    "import os\n",
    "import shutil\n",
    "import string\n",
    "\n",
    "import numpy as np\n",
    "import pandas as pd"
   ]
  },
  {
   "cell_type": "code",
   "execution_count": 2,
   "metadata": {},
   "outputs": [],
   "source": [
    "class Problem(object):\n",
    "    \n",
    "    def __init__(self, problem_name, has_subtests=False):\n",
    "        self.problem_name = problem_name\n",
    "        self.test_id = 0\n",
    "        self.has_subtests = has_subtests\n",
    "        if os.path.exists(self.problem_name):\n",
    "            shutil.rmtree(self.problem_name)\n",
    "        os.makedirs(f'{self.problem_name}/input')\n",
    "        os.makedirs(f'{self.problem_name}/output')\n",
    "        \n",
    "    def create_inputs(self, **kwargs):\n",
    "        \"\"\"Should return a list. Each element is a line in the input.\"\"\"\n",
    "        raise NotImplementedError\n",
    "    \n",
    "    def solve(self, inputs, **kwargs):\n",
    "        \"\"\"Should return a list. Each element is a line in the output.\"\"\"\n",
    "        raise NotImplementedError\n",
    "    \n",
    "    @staticmethod\n",
    "    def save_to_file(data, file_path=None, **kwargs):\n",
    "        if isinstance(data, list):\n",
    "            data = ' '.join(str(x) for x in data)\n",
    "        print(data, file=file_path, **kwargs)\n",
    "    \n",
    "    def create_single_test(self, inputs=None, **kwargs):\n",
    "        n = 1\n",
    "        if inputs is None:\n",
    "            if self.has_subtests:\n",
    "                if 'N' in kwargs:\n",
    "                    n = kwargs['N']\n",
    "                else:\n",
    "                    n = np.random.randint(kwargs['N_MIN'], kwargs['N_MAX']+1)\n",
    "                inputs = [n]\n",
    "                outputs = []\n",
    "                for _ in range(n):\n",
    "                    inp = self.create_inputs(**kwargs)\n",
    "                    outp = self.solve(inp)\n",
    "                    inputs += inp\n",
    "                    outputs += outp\n",
    "            else:\n",
    "                inputs = self.create_inputs(**kwargs)\n",
    "                outputs = self.solve(inputs)\n",
    "        else:\n",
    "            outputs = self.solve(inputs, **kwargs)\n",
    "            if self.has_subtests:\n",
    "                inputs = [1] + inputs\n",
    "\n",
    "        self.write_test(self.test_id, inputs, outputs)\n",
    "        self.test_id += 1\n",
    "        return (self.test_id-1, inputs, outputs)\n",
    "    \n",
    "    def create_multiple_tests(self, n, **kwargs):\n",
    "        for i in range(n):\n",
    "            yield self.create_single_test(**kwargs)\n",
    "            \n",
    "    def write_test(self, test_id, inputs, outputs):\n",
    "        input_file = f'{self.problem_name}/input/input_{test_id:02d}.txt'\n",
    "        output_file = f'{self.problem_name}/output/output_{test_id:02d}.txt'\n",
    "\n",
    "        with open(input_file, 'w') as fp:\n",
    "            for line in inputs:\n",
    "                Problem.save_to_file(line, fp)\n",
    "\n",
    "        with open(output_file, 'w') as fp:\n",
    "            for line in outputs:\n",
    "                Problem.save_to_file(line, fp)"
   ]
  },
  {
   "cell_type": "code",
   "execution_count": 3,
   "metadata": {},
   "outputs": [],
   "source": [
    "class TopCoderProblem(Problem):\n",
    "    \n",
    "    def parse_inputs(self, inputs):\n",
    "        return inputs\n",
    "    \n",
    "    def parse_outputs(self, outputs):\n",
    "        return outputs\n",
    "    \n",
    "    def create_from_string(self, str_data):\n",
    "        data = str_data.split('\\n')\n",
    "        for line in data:\n",
    "            line = line.strip()\n",
    "            if not line:\n",
    "                continue\n",
    "            line = line.replace('{', '[').replace('}', ']')\n",
    "            parts = [eval(part) for part in line.split('\\t\\t')[:-1]]\n",
    "            assert len(parts) == 2\n",
    "            \n",
    "            inputs = self.parse_inputs(parts[0])\n",
    "            outputs = self.parse_outputs(parts[1])\n",
    "            \n",
    "            self.write_test(self.test_id, inputs, outputs)\n",
    "            self.test_id += 1\n",
    "            yield (self.test_id - 1, inputs, outputs)"
   ]
  },
  {
   "cell_type": "code",
   "execution_count": 4,
   "metadata": {},
   "outputs": [
    {
     "name": "stdout",
     "output_type": "stream",
     "text": [
      "algo-note.ipynb  codesignal\t       interviewbit  README.md\r\n",
      "codelearn\t create_problem.ipynb  leetcode      topcoder\r\n"
     ]
    }
   ],
   "source": [
    "!ls"
   ]
  },
  {
   "cell_type": "code",
   "execution_count": null,
   "metadata": {},
   "outputs": [],
   "source": []
  }
 ],
 "metadata": {
  "kernelspec": {
   "display_name": "Python 3",
   "language": "python",
   "name": "python3"
  },
  "language_info": {
   "codemirror_mode": {
    "name": "ipython",
    "version": 3
   },
   "file_extension": ".py",
   "mimetype": "text/x-python",
   "name": "python",
   "nbconvert_exporter": "python",
   "pygments_lexer": "ipython3",
   "version": "3.7.3"
  }
 },
 "nbformat": 4,
 "nbformat_minor": 2
}
